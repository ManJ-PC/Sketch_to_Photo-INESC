{
 "cells": [
  {
   "cell_type": "code",
   "execution_count": 13,
   "metadata": {},
   "outputs": [],
   "source": [
    "import matplotlib.pyplot as plt\n",
    "import numpy as np\n",
    "import os\n",
    "import pickle\n",
    "from keras.applications.imagenet_utils import preprocess_input\n",
    "from keras.layers import (Input, Convolution2D, ZeroPadding2D, \n",
    "                          MaxPooling2D, Flatten, Dense, Dropout, Activation)\n",
    "from keras.models import model_from_json, Model, Sequential\n",
    "from keras.preprocessing import image\n",
    "from keras.preprocessing.image import load_img, save_img, img_to_array\n",
    "from matplotlib.ticker import PercentFormatter\n",
    "from PIL import Image\n",
    "from sklearn import metrics"
   ]
  },
  {
   "cell_type": "code",
   "execution_count": 14,
   "metadata": {},
   "outputs": [],
   "source": [
    "model = Sequential()\n",
    "model.add(ZeroPadding2D((1,1),input_shape=(224,224, 3)))\n",
    "model.add(Convolution2D(64, (3, 3), activation='relu'))\n",
    "model.add(ZeroPadding2D((1,1)))\n",
    "model.add(Convolution2D(64, (3, 3), activation='relu'))\n",
    "model.add(MaxPooling2D((2,2), strides=(2,2)))\n",
    "\n",
    "model.add(ZeroPadding2D((1,1)))\n",
    "model.add(Convolution2D(128, (3, 3), activation='relu'))\n",
    "model.add(ZeroPadding2D((1,1)))\n",
    "model.add(Convolution2D(128, (3, 3), activation='relu'))\n",
    "model.add(MaxPooling2D((2,2), strides=(2,2)))\n",
    "\n",
    "model.add(ZeroPadding2D((1,1)))\n",
    "model.add(Convolution2D(256, (3, 3), activation='relu'))\n",
    "model.add(ZeroPadding2D((1,1)))\n",
    "model.add(Convolution2D(256, (3, 3), activation='relu'))\n",
    "model.add(ZeroPadding2D((1,1)))\n",
    "model.add(Convolution2D(256, (3, 3), activation='relu'))\n",
    "model.add(MaxPooling2D((2,2), strides=(2,2)))\n",
    "\n",
    "model.add(ZeroPadding2D((1,1)))\n",
    "model.add(Convolution2D(512, (3, 3), activation='relu'))\n",
    "model.add(ZeroPadding2D((1,1)))\n",
    "model.add(Convolution2D(512, (3, 3), activation='relu'))\n",
    "model.add(ZeroPadding2D((1,1)))\n",
    "model.add(Convolution2D(512, (3, 3), activation='relu'))\n",
    "model.add(MaxPooling2D((2,2), strides=(2,2)))\n",
    "\n",
    "model.add(ZeroPadding2D((1,1)))\n",
    "model.add(Convolution2D(512, (3, 3), activation='relu'))\n",
    "model.add(ZeroPadding2D((1,1)))\n",
    "model.add(Convolution2D(512, (3, 3), activation='relu'))\n",
    "model.add(ZeroPadding2D((1,1)))\n",
    "model.add(Convolution2D(512, (3, 3), activation='relu'))\n",
    "model.add(MaxPooling2D((2,2), strides=(2,2)))\n",
    "\n",
    "model.add(Convolution2D(4096, (7, 7), activation='relu'))\n",
    "model.add(Dropout(0.5))\n",
    "model.add(Convolution2D(4096, (1, 1), activation='relu'))\n",
    "model.add(Dropout(0.5))\n",
    "model.add(Convolution2D(2622, (1, 1)))\n",
    "model.add(Flatten())\n",
    "model.add(Activation('softmax'))"
   ]
  },
  {
   "cell_type": "code",
   "execution_count": 15,
   "metadata": {},
   "outputs": [],
   "source": [
    "#you can download the pretrained weights from the following link \n",
    "#https://drive.google.com/file/d/1CPSeum3HpopfomUEK1gybeuIVoeJT_Eo/view?usp=sharing\n",
    "#or you can find the detailed documentation https://sefiks.com/2018/08/06/deep-face-recognition-with-keras/\n",
    "model.load_weights('./vgg_face_weights.h5')"
   ]
  },
  {
   "cell_type": "code",
   "execution_count": 16,
   "metadata": {},
   "outputs": [],
   "source": [
    "def preprocess_image(image_path):\n",
    "    img = load_img(image_path, target_size=(224, 224))\n",
    "    img = img_to_array(img)\n",
    "    img = np.expand_dims(img, axis=0)\n",
    "    img = preprocess_input(img)\n",
    "    return img"
   ]
  },
  {
   "cell_type": "code",
   "execution_count": 17,
   "metadata": {},
   "outputs": [],
   "source": [
    "def findCosineSimilarity(source_representation, test_representation):\n",
    "    a = np.matmul(np.transpose(source_representation), test_representation)\n",
    "    b = np.sum(np.multiply(source_representation, source_representation))\n",
    "    c = np.sum(np.multiply(test_representation, test_representation))\n",
    "    return 1 - (a / (np.sqrt(b) * np.sqrt(c)))\n",
    "\n",
    "def findEuclideanDistance(source_representation, test_representation):\n",
    "    euclidean_distance = source_representation - test_representation\n",
    "    euclidean_distance = np.sum(np.multiply(euclidean_distance, euclidean_distance))\n",
    "    euclidean_distance = np.sqrt(euclidean_distance)\n",
    "    return euclidean_distance\n",
    "\n",
    "def findNormalisedEuclideanDistance(x, y):\n",
    "    var_x = np.var(x)\n",
    "    var_y = np.var(y)\n",
    "    var_xy = np.var(x-y)\n",
    "    dist = 0.5 * var_xy / (var_x + var_y)\n",
    "    return dist"
   ]
  },
  {
   "cell_type": "code",
   "execution_count": 18,
   "metadata": {},
   "outputs": [],
   "source": [
    "vgg_face_descriptor = Model(inputs=model.layers[0].input, outputs=model.layers[-2].output)"
   ]
  },
  {
   "cell_type": "code",
   "execution_count": 19,
   "metadata": {},
   "outputs": [],
   "source": [
    "def verifyFace(img1, img2):\n",
    "    img1_representation = vgg_face_descriptor.predict(preprocess_image(img1))[0,:]\n",
    "    img2_representation = vgg_face_descriptor.predict(preprocess_image(img2))[0,:]\n",
    "    \n",
    "    cosine_similarity = findCosineSimilarity(img1_representation, img2_representation)\n",
    "    euclidean_distance = findEuclideanDistance(img1_representation, img2_representation)\n",
    "    norm_euclidean_distance = findNormalisedEuclideanDistance(img1_representation, img2_representation)\n",
    "    '''\n",
    "    epsilon = 0.20\n",
    "    \n",
    "    print(\"Cosine similarity: \",cosine_similarity)\n",
    "    print(\"Euclidean distance: \",euclidean_distance)\n",
    "    \n",
    "    if(cosine_similarity < epsilon):\n",
    "        print(\"verified... they are same person\")\n",
    "    else:\n",
    "        print(\"unverified! they are not same person!\")\n",
    "    \n",
    "    f = plt.figure()\n",
    "    f.add_subplot(1,2, 1)\n",
    "    plt.imshow(image.load_img(img1))\n",
    "    plt.xticks([]); plt.yticks([])\n",
    "    f.add_subplot(1,2, 2)\n",
    "    plt.imshow(image.load_img(img2))\n",
    "    plt.xticks([]); plt.yticks([])\n",
    "    plt.show(block=True)\n",
    "    print(\"-----------------------------------------\")\n",
    "    '''\n",
    "    return cosine_similarity, euclidean_distance, norm_euclidean_distance\n"
   ]
  },
  {
   "cell_type": "code",
   "execution_count": 36,
   "metadata": {
    "scrolled": false
   },
   "outputs": [],
   "source": [
    "def getDistancesSamePerson():\n",
    "\n",
    "    dists = []\n",
    "    path = './images/Alloutput/'\n",
    "    for filePath in sorted(os.listdir(path)):\n",
    "        sketchPath = os.path.join(path, filePath)\n",
    "        imgPath = os.path.join(os.path.dirname(os.path.dirname(path)), 'Alltarget/', filePath)\n",
    "        dists.append(verifyFace(sketchPath, imgPath))\n",
    "    return dists\n",
    "\n",
    "\n",
    "def getDistancesDiffPerson():\n",
    "\n",
    "    dists = []\n",
    "    pathSketches = './images/Alloutput/'\n",
    "    pathImages = './images/Alltarget/'\n",
    "    for skeName in sorted(os.listdir(pathSketches)):\n",
    "        for imgName in sorted(os.listdir(pathImages)):\n",
    "            if(skeName==imgName):\n",
    "                continue\n",
    "\n",
    "            sketchPath = os.path.join(pathSketches, skeName)\n",
    "            imgPath = os.path.join(pathImages, imgName)\n",
    "            dists.append(verifyFace(sketchPath, imgPath))\n",
    "    return dists\n",
    "\n",
    "def saveImagesRepresentations():\n",
    "\n",
    "    representations = [] #(rep, imaName)\n",
    "    \n",
    "    pathImages = './images/Alltarget/'\n",
    "    #pathImages = './images/photos_resized/'\n",
    "    for imgName in sorted(os.listdir(pathImages)):\n",
    "        #print('I')\n",
    "        imgPath = os.path.join(pathImages, imgName)\n",
    "        imgRepresentation = vgg_face_descriptor.predict(preprocess_image(imgPath))[0,:]\n",
    "        representations.append((imgName,imgRepresentation))\n",
    "    pickle.dump(representations,open('imgRepresentations.pickle' , 'wb'))\n",
    "\n",
    "\n",
    "def getDistancesAndLabels():\n",
    "\n",
    "    dists = []\n",
    "    labels = [] #0 if diff, 1 if equal\n",
    "    pathSketches = './images/Alloutput/'\n",
    "    pathImages = './images/Alltarget/'\n",
    "    for skeName in sorted(os.listdir(pathSketches)):\n",
    "        for imgName in sorted(os.listdir(pathImages)):\n",
    "            if(skeName==imgName):\n",
    "                labels.append(1)\n",
    "            else:\n",
    "                labels.append(0)\n",
    "\n",
    "            sketchPath = os.path.join(pathSketches, skeName)\n",
    "            imgPath = os.path.join(pathImages, imgName)\n",
    "            dists.append(verifyFace(sketchPath, imgPath))\n",
    "    return dists, labels\n",
    "\n",
    "\n",
    "def delsaveRepresentations():\n",
    "\n",
    "    dists = []\n",
    "    labels = [] #0 if diff, 1 if equal\n",
    "    \n",
    "    pathSketches = './images/Alloutput/'\n",
    "    pathImages = './images/Alltarget/'\n",
    "    for skeName in sorted(os.listdir(pathSketches)):\n",
    "        print(skeName)\n",
    "        \n",
    "#saveImagesRepresentations()"
   ]
  },
  {
   "cell_type": "code",
   "execution_count": 21,
   "metadata": {},
   "outputs": [],
   "source": [
    "def displayMinMaxDists(dists):\n",
    "    mins = list(map(min, zip(*dists))) \n",
    "    maxs = list(map(max, zip(*dists))) \n",
    "    \n",
    "    print (\"The min and max of Cosine similarity :  \" +  str((mins[0],maxs[0]))) \n",
    "    print (\"The min and max of Euclidean distance :  \" +  str((mins[1],maxs[1]))) \n",
    "    print (\"The min and max of Norm Euclidean distance :  \" +  str((mins[2],maxs[2])))\n",
    "\n",
    "    \n",
    "def displayHistograms(dists, bins=30):\n",
    "    cosSims = [i[0] for i in dists]\n",
    "    eucDists = [i[1] for i in dists]\n",
    "    normEucDists = [i[2] for i in dists]\n",
    "    \n",
    "    '''\n",
    "    plt.title('Cosine Sim')\n",
    "    plt.plot([i[0] for i in dists],'*',color=[0.5,0.5,0.5])\n",
    "    plt.show()\n",
    "    \n",
    "    plt.title('Cosine Similarity')\n",
    "    plt.plot(cosSims, np.zeros_like(cosSims), 'x')\n",
    "    plt.yticks([])\n",
    "    plt.show()\n",
    "    \n",
    "    plt.title('Cosine Similarity')   \n",
    "    plt.hist(cosSims, density=True, bins=30) # density\n",
    "    plt.ylabel('Probability');\n",
    "    plt.show()   \n",
    "    '''\n",
    "    \n",
    "    plt.title('Cosine Similarity')  \n",
    "    plt.hist(cosSims, weights=np.ones(len(cosSims)) / len(cosSims), bins=bins)\n",
    "    plt.gca().yaxis.set_major_formatter(PercentFormatter(1))\n",
    "    plt.show()\n",
    "\n",
    "    plt.title('Euclidean Distance') \n",
    "    plt.hist(eucDists, weights=np.ones(len(eucDists)) / len(eucDists), bins=bins)\n",
    "    plt.gca().yaxis.set_major_formatter(PercentFormatter(1))\n",
    "    plt.show()\n",
    "    \n",
    "    plt.title('Normalised Euclidean Distance')\n",
    "    plt.hist(normEucDists, weights=np.ones(len(normEucDists)) / len(normEucDists), bins=bins)\n",
    "    plt.gca().yaxis.set_major_formatter(PercentFormatter(1))\n",
    "    plt.show()\n",
    "    \n",
    "    return\n",
    "    \n",
    "    \n",
    "    \n",
    "def displayThresholdPercentages(dists, samePerson=False, cosSimThreshold = .16, \n",
    "                       eucDistThreshold = 70, normEucDistThreshold = .09):\n",
    "    \n",
    "    cosSims = [i[0] for i in dists]\n",
    "    eucDists = [i[1] for i in dists]\n",
    "    normEucDists = [i[2] for i in dists]\n",
    "    \n",
    "    cosSimsBelowThreshold = sum(i < cosSimThreshold for i in cosSims)/len(dists)\n",
    "    eucDistsBelowThreshold = sum(i < eucDistThreshold for i in eucDists)/len(dists)\n",
    "    normEucDistsBelowThreshold = sum(i < normEucDistThreshold for i in normEucDists)/len(dists)\n",
    "    \n",
    "    if(samePerson):\n",
    "        print(f'Elems with Cosine similarity lower than {cosSimThreshold}: {cosSimsBelowThreshold}')\n",
    "        print(f'Elems with Euclidean distance lower than {eucDistThreshold}: {eucDistsBelowThreshold}')\n",
    "        print(f'Elems with Normalised Euclidean Distance lower than {normEucDistThreshold}: {normEucDistsBelowThreshold}')\n",
    "    else:\n",
    "        print(f'Elems with Cosine similarity higher than {cosSimThreshold}: {1- cosSimsBelowThreshold}')\n",
    "        print(f'Elems with Euclidean distance higher than {eucDistThreshold}: {1- eucDistsBelowThreshold}')\n",
    "        print(f'Elems with Normalised Euclidean Distance higher than {normEucDistThreshold}: {1- normEucDistsBelowThreshold}')\n",
    "    \n",
    "    return\n",
    "        \n",
    "\n",
    "def displayROCCurves(scores, labels):\n",
    "    cosSims = [i[0] for i in scores]\n",
    "    eucDists = [i[1] for i in scores]\n",
    "    normEucDists = [i[2] for i in scores]\n",
    "\n",
    "    fprCos, tprCos, thresholdsCos = metrics.roc_curve(labels, cosSims)\n",
    "    rocAucCos = metrics.auc(1-fprCos, 1-tprCos)\n",
    "\n",
    "    fprEuc, tprEuc, thresholdsEuc = metrics.roc_curve(labels, eucDists)\n",
    "    rocAucEuc = metrics.auc(1-fprEuc, 1-tprEuc)\n",
    "\n",
    "    fprNormEuc, tprNormEuc, thresholdsNormEuc = metrics.roc_curve(labels, normEucDists)\n",
    "    rocAucNormEuc = metrics.auc(1-fprNormEuc, 1-tprNormEuc)\n",
    "\n",
    "    plt.figure()\n",
    "    lw = 2\n",
    "    plt.plot(1-fprCos, 1-tprCos, color='darkorange',\n",
    "         lw=lw, label='ROC curve Cos (area = %0.2f)' % rocAucCos)\n",
    "    plt.plot(1-fprEuc, 1-tprEuc, color='blue',\n",
    "         lw=lw, label='ROC curve Euc (area = %0.2f)' % rocAucEuc)\n",
    "    plt.plot(1-fprNormEuc, 1-tprNormEuc, color='green',\n",
    "         lw=lw, label='ROC curve NormEuc (area = %0.2f)' % rocAucNormEuc)\n",
    "    plt.plot([0, 1], [0, 1], color='navy', lw=lw, linestyle='--')\n",
    "    plt.xlim([0.0, 1.0])\n",
    "    plt.ylim([0.0, 1.05])\n",
    "    plt.xlabel('False Positive Rate')\n",
    "    plt.ylabel('True Positive Rate')\n",
    "    plt.title('ROC Curve')\n",
    "    plt.legend(loc=\"lower right\")\n",
    "    plt.show()\n",
    "    \n",
    "    return    "
   ]
  },
  {
   "cell_type": "code",
   "execution_count": 7,
   "metadata": {},
   "outputs": [
    {
     "name": "stdout",
     "output_type": "stream",
     "text": [
      "The min and max of Cosine similarity :  (0.05702096223831177, 0.2092074751853943)\n",
      "The min and max of Euclidean distance :  (36.384827, 90.513985)\n",
      "The min and max of Norm Euclidean distance :  (0.02974714007186342, 0.10579415861383469)\n"
     ]
    },
    {
     "data": {
      "image/png": "[encoded data removed]",
      "text/plain": [
       "<Figure size 432x288 with 1 Axes>"
      ]
     },
     "metadata": {
      "needs_background": "light"
     },
     "output_type": "display_data"
    },
    {
     "data": {
      "image/png": "[encoded data removed]",
      "text/plain": [
       "<Figure size 432x288 with 1 Axes>"
      ]
     },
     "metadata": {
      "needs_background": "light"
     },
     "output_type": "display_data"
    },
    {
     "data": {
      "image/png": "[encoded data removed]",
      "text/plain": [
       "<Figure size 432x288 with 1 Axes>"
      ]
     },
     "metadata": {
      "needs_background": "light"
     },
     "output_type": "display_data"
    },
    {
     "name": "stdout",
     "output_type": "stream",
     "text": [
      "Elems with Cosine similarity lower than 0.16: 0.7631578947368421\n",
      "Elems with Euclidean distance lower than 70: 0.868421052631579\n",
      "Elems with Normalised Euclidean Distance lower than 0.09: 0.8157894736842105\n"
     ]
    }
   ],
   "source": [
    "#distsSamePerson = getDistancesSamePerson()\n",
    "distsSamePerson = pickle.load(open('samePerson.pickle','rb'))\n",
    "\n",
    "displayMinMaxDists(distsSamePerson)\n",
    "\n",
    "displayHistograms(distsSamePerson, bins = 8)\n",
    "\n",
    "displayThresholdPercentages(distsSamePerson, samePerson=True)\n",
    "\n",
    "\n",
    "#pickle.dump(distsSamePerson,open('samePerson.pickle' , 'wb'))"
   ]
  },
  {
   "cell_type": "code",
   "execution_count": 8,
   "metadata": {},
   "outputs": [
    {
     "name": "stdout",
     "output_type": "stream",
     "text": [
      "The min and max of Cosine similarity :  (0.09586530923843384, 0.7605726718902588)\n",
      "The min and max of Euclidean distance :  (45.27294, 171.805)\n",
      "The min and max of Norm Euclidean distance :  (0.0508690457048847, 0.38706563402574146)\n"
     ]
    },
    {
     "data": {
      "image/png": "[encoded data removed]",
      "text/plain": [
       "<Figure size 432x288 with 1 Axes>"
      ]
     },
     "metadata": {
      "needs_background": "light"
     },
     "output_type": "display_data"
    },
    {
     "data": {
      "image/png": "[encoded data removed]",
      "text/plain": [
       "<Figure size 432x288 with 1 Axes>"
      ]
     },
     "metadata": {
      "needs_background": "light"
     },
     "output_type": "display_data"
    },
    {
     "data": {
      "image/png": "[encoded data removed]",
      "text/plain": [
       "<Figure size 432x288 with 1 Axes>"
      ]
     },
     "metadata": {
      "needs_background": "light"
     },
     "output_type": "display_data"
    },
    {
     "name": "stdout",
     "output_type": "stream",
     "text": [
      "Elems with Cosine similarity higher than 0.16: 0.9743954480796586\n",
      "Elems with Euclidean distance higher than 70: 0.8364153627311522\n",
      "Elems with Normalised Euclidean Distance higher than 0.09: 0.957325746799431\n"
     ]
    }
   ],
   "source": [
    "#distsDiffPerson = getDistancesDiffPerson()\n",
    "distsDiffPerson = pickle.load(open('diffPerson.pickle','rb'))\n",
    "\n",
    "displayMinMaxDists(distsDiffPerson)\n",
    "\n",
    "displayHistograms(distsDiffPerson)\n",
    "\n",
    "displayThresholdPercentages(distsDiffPerson)\n",
    "\n",
    "#pickle.dump(distsDiffPerson,open('diffPerson.pickle' , 'wb'))\n"
   ]
  },
  {
   "cell_type": "code",
   "execution_count": 9,
   "metadata": {},
   "outputs": [
    {
     "data": {
      "image/png": "[encoded data removed]",
      "text/plain": [
       "<Figure size 432x288 with 1 Axes>"
      ]
     },
     "metadata": {
      "needs_background": "light"
     },
     "output_type": "display_data"
    },
    {
     "data": {
      "image/png": "[encoded data removed]",
      "text/plain": [
       "<Figure size 432x288 with 1 Axes>"
      ]
     },
     "metadata": {
      "needs_background": "light"
     },
     "output_type": "display_data"
    },
    {
     "data": {
      "image/png": "[encoded data removed]",
      "text/plain": [
       "<Figure size 432x288 with 1 Axes>"
      ]
     },
     "metadata": {
      "needs_background": "light"
     },
     "output_type": "display_data"
    },
    {
     "data": {
      "image/png": "[encoded data removed]",
      "text/plain": [
       "<Figure size 432x288 with 1 Axes>"
      ]
     },
     "metadata": {
      "needs_background": "light"
     },
     "output_type": "display_data"
    }
   ],
   "source": [
    "#scores, labels = getDistancesAndLabels()\n",
    "scores, labels  = pickle.load(open('all.pickle','rb'))\n",
    "\n",
    "displayROCCurves(scores, labels)\n",
    "displayHistograms(scores)\n",
    "\n",
    "#pickle.dump((scores,labels),open('all.pickle' , 'wb'))"
   ]
  },
  {
   "cell_type": "code",
   "execution_count": 40,
   "metadata": {},
   "outputs": [],
   "source": [
    "'''\n",
    "pathImage = './images/Alloutput/m-026-tr.png'\n",
    "imgRep = vgg_face_descriptor.predict(preprocess_image(pathImage))[0,:]\n",
    "findCosineSimilarity(imgRep, imgRep)\n",
    "print(imgRep.shape)\n",
    "'''\n",
    "\n",
    "\n",
    "\n",
    "def findMostSimilar(skePath,numSimilar):\n",
    "    imgRep = vgg_face_descriptor.predict(preprocess_image(skePath))[0,:]\n",
    "    reps  = pickle.load(open('imgRepresentations.pickle','rb'))\n",
    "    #print(reps[0][0])\n",
    "    #print(reps[0][1].shape)\n",
    "    #findNormalisedEuclideanDistance(skeRep, skeRep)\n",
    "    #[findCosineSimilarity(skeRep, i[1]) for i in scores]\n",
    "    #findEuclideanDistance\n",
    "    \n",
    "    sims = [(i[0],findNormalisedEuclideanDistance(imgRep, i[1])) for i in reps]\n",
    "    sims.sort(key=lambda tup: tup[1])\n",
    "    #print(sims[:numSimilar])\n",
    "    return sims[:numSimilar]\n",
    "             \n",
    "#findMostSimilar(pathImage,2)\n"
   ]
  },
  {
   "cell_type": "code",
   "execution_count": 46,
   "metadata": {},
   "outputs": [
    {
     "name": "stdout",
     "output_type": "stream",
     "text": [
      "f-021-tr.png\n",
      "m-017-tr.png\n",
      "m-018-tr.png\n",
      "m-022-te.png\n",
      "m-028-tr.png\n",
      "m-035-te.png\n",
      "m-040-tr.png\n",
      "m-064-te.png\n",
      "m-067-te.png\n",
      "m-084-te.png\n",
      "m-086-te.png\n",
      "Number of tries 1: 0.7105263157894737\n"
     ]
    },
    {
     "data": {
      "text/plain": [
       "'\\ncorrectIdentification(2)\\ncorrectIdentification(3)\\ncorrectIdentification(4)\\ncorrectIdentification(5)\\ncorrectIdentification(6)\\ncorrectIdentification(7)\\n'"
      ]
     },
     "execution_count": 46,
     "metadata": {},
     "output_type": "execute_result"
    }
   ],
   "source": [
    "'''\n",
    "counter = 0 \n",
    "pathSketches = './images/Alloutput/'\n",
    "for skeName in sorted(os.listdir(pathSketches)):\n",
    "    sketchPath = os.path.join(pathSketches, skeName)\n",
    "    mostSimilar = findMostSimilar(sketchPath)\n",
    "    print(mostSimilar[0],skeName)\n",
    "    if(mostSimilar[0]==skeName):\n",
    "       counter+=1\n",
    "print(counter)\n",
    "print(len(os.listdir(pathSketches)))\n",
    "'''\n",
    "def correctIdentification(numTries):\n",
    "    counter = 0\n",
    "    pathSketches = './images/images/'\n",
    "    for skeName in sorted(os.listdir(pathSketches)):\n",
    "        sketchPath = os.path.join(pathSketches, skeName)\n",
    "        mostSimilar = findMostSimilar(sketchPath,numTries)\n",
    "        imgNames = [i[0] for i in mostSimilar]\n",
    "        #print(mostSimilar[0],skeName)\n",
    "        #if any(x in paid[j] for x in d):\n",
    "        #if(mostSimilar[0]==skeName):\n",
    "        if skeName in imgNames:\n",
    "           counter+=1\n",
    "        else:\n",
    "            print(skeName)\n",
    "        \n",
    "        \n",
    "    return print(f'Number of tries {numTries}: {counter/len(os.listdir(pathSketches))}')\n",
    "\n",
    "\n",
    "\n",
    "correctIdentification(1)\n",
    "'''\n",
    "correctIdentification(2)\n",
    "correctIdentification(3)\n",
    "correctIdentification(4)\n",
    "correctIdentification(5)\n",
    "correctIdentification(6)\n",
    "correctIdentification(7)\n",
    "'''\n",
    "\n",
    "\n"
   ]
  },
  {
   "cell_type": "code",
   "execution_count": 50,
   "metadata": {},
   "outputs": [
    {
     "data": {
      "text/plain": [
       "[('f-001-te.png', 0.06721550416476496)]"
      ]
     },
     "execution_count": 50,
     "metadata": {},
     "output_type": "execute_result"
    }
   ],
   "source": [
    "skePath='/home/gildt/Desktop/f-021-tr.png'\n",
    "skePath = './images/images/f-021-tr.png'\n",
    "findMostSimilar(skePath,1)"
   ]
  },
  {
   "cell_type": "code",
   "execution_count": null,
   "metadata": {},
   "outputs": [],
   "source": []
  }
 ],
 "metadata": {
  "kernelspec": {
   "display_name": "Python 3",
   "language": "python",
   "name": "python3"
  },
  "language_info": {
   "codemirror_mode": {
    "name": "ipython",
    "version": 3
   },
   "file_extension": ".py",
   "mimetype": "text/x-python",
   "name": "python",
   "nbconvert_exporter": "python",
   "pygments_lexer": "ipython3",
   "version": "3.7.3"
  }
 },
 "nbformat": 4,
 "nbformat_minor": 2
}
